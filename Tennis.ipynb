{
 "cells": [
  {
   "cell_type": "markdown",
   "metadata": {},
   "source": [
    "# Collaboration and Competition\n",
    "\n",
    "---\n",
    "\n",
    "In this notebook, you will learn how to use the Unity ML-Agents environment for the third project of the [Deep Reinforcement Learning Nanodegree](https://www.udacity.com/course/deep-reinforcement-learning-nanodegree--nd893) program.\n",
    "\n",
    "### 1. Start the Environment\n",
    "\n",
    "We begin by importing the necessary packages.  If the code cell below returns an error, please revisit the project instructions to double-check that you have installed [Unity ML-Agents](https://github.com/Unity-Technologies/ml-agents/blob/master/docs/Installation.md) and [NumPy](http://www.numpy.org/)."
   ]
  },
  {
   "cell_type": "code",
   "execution_count": 1,
   "metadata": {},
   "outputs": [],
   "source": [
    "from unityagents import UnityEnvironment\n",
    "import numpy as np\n",
    "import random\n",
    "import torch\n",
    "from collections import deque\n",
    "import matplotlib.pyplot as plt\n",
    "%matplotlib inline\n",
    "from ddpg_agent import Agent\n",
    "import copy"
   ]
  },
  {
   "cell_type": "markdown",
   "metadata": {},
   "source": [
    "Next, we will start the environment!  **_Before running the code cell below_**, change the `file_name` parameter to match the location of the Unity environment that you downloaded.\n",
    "\n",
    "- **Mac**: `\"path/to/Tennis.app\"`\n",
    "- **Windows** (x86): `\"path/to/Tennis_Windows_x86/Tennis.exe\"`\n",
    "- **Windows** (x86_64): `\"path/to/Tennis_Windows_x86_64/Tennis.exe\"`\n",
    "- **Linux** (x86): `\"path/to/Tennis_Linux/Tennis.x86\"`\n",
    "- **Linux** (x86_64): `\"path/to/Tennis_Linux/Tennis.x86_64\"`\n",
    "- **Linux** (x86, headless): `\"path/to/Tennis_Linux_NoVis/Tennis.x86\"`\n",
    "- **Linux** (x86_64, headless): `\"path/to/Tennis_Linux_NoVis/Tennis.x86_64\"`\n",
    "\n",
    "For instance, if you are using a Mac, then you downloaded `Tennis.app`.  If this file is in the same folder as the notebook, then the line below should appear as follows:\n",
    "```\n",
    "env = UnityEnvironment(file_name=\"Tennis.app\")\n",
    "```"
   ]
  },
  {
   "cell_type": "code",
   "execution_count": 2,
   "metadata": {
    "scrolled": true
   },
   "outputs": [
    {
     "name": "stderr",
     "output_type": "stream",
     "text": [
      "INFO:unityagents:\n",
      "'Academy' started successfully!\n",
      "Unity Academy name: Academy\n",
      "        Number of Brains: 1\n",
      "        Number of External Brains : 1\n",
      "        Lesson number : 0\n",
      "        Reset Parameters :\n",
      "\t\t\n",
      "Unity brain name: TennisBrain\n",
      "        Number of Visual Observations (per agent): 0\n",
      "        Vector Observation space type: continuous\n",
      "        Vector Observation space size (per agent): 8\n",
      "        Number of stacked Vector Observation: 3\n",
      "        Vector Action space type: continuous\n",
      "        Vector Action space size (per agent): 2\n",
      "        Vector Action descriptions: , \n"
     ]
    }
   ],
   "source": [
    "env = UnityEnvironment(file_name=\"Tennis_Windows_x86_64/Tennis.exe\")"
   ]
  },
  {
   "cell_type": "markdown",
   "metadata": {},
   "source": [
    "Environments contain **_brains_** which are responsible for deciding the actions of their associated agents. Here we check for the first brain available, and set it as the default brain we will be controlling from Python."
   ]
  },
  {
   "cell_type": "code",
   "execution_count": 3,
   "metadata": {},
   "outputs": [],
   "source": [
    "# get the default brain\n",
    "brain_name = env.brain_names[0]\n",
    "brain = env.brains[brain_name]"
   ]
  },
  {
   "cell_type": "markdown",
   "metadata": {},
   "source": [
    "### 2. Examine the State and Action Spaces\n",
    "\n",
    "In this environment, two agents control rackets to bounce a ball over a net. If an agent hits the ball over the net, it receives a reward of +0.1.  If an agent lets a ball hit the ground or hits the ball out of bounds, it receives a reward of -0.01.  Thus, the goal of each agent is to keep the ball in play.\n",
    "\n",
    "The observation space consists of 8 variables corresponding to the position and velocity of the ball and racket. Two continuous actions are available, corresponding to movement toward (or away from) the net, and jumping. \n",
    "\n",
    "Run the code cell below to print some information about the environment."
   ]
  },
  {
   "cell_type": "code",
   "execution_count": 4,
   "metadata": {},
   "outputs": [
    {
     "name": "stdout",
     "output_type": "stream",
     "text": [
      "Number of agents: 2\n",
      "Size of each action: 2\n",
      "There are 2 agents. Each observes a state with length: 24\n",
      "The state for the first agent looks like: [ 0.          0.          0.          0.          0.          0.\n",
      "  0.          0.          0.          0.          0.          0.\n",
      "  0.          0.          0.          0.         -6.65278625 -1.5\n",
      " -0.          0.          6.83172083  6.         -0.          0.        ]\n"
     ]
    }
   ],
   "source": [
    "# reset the environment\n",
    "env_info = env.reset(train_mode=True)[brain_name]\n",
    "\n",
    "# number of agents \n",
    "num_agents = len(env_info.agents)\n",
    "print('Number of agents:', num_agents)\n",
    "\n",
    "# size of each action\n",
    "action_size = brain.vector_action_space_size\n",
    "print('Size of each action:', action_size)\n",
    "\n",
    "# examine the state space \n",
    "states = env_info.vector_observations\n",
    "state_size = states.shape[1]\n",
    "print('There are {} agents. Each observes a state with length: {}'.format(states.shape[0], state_size))\n",
    "print('The state for the first agent looks like:', states[0])"
   ]
  },
  {
   "cell_type": "markdown",
   "metadata": {},
   "source": [
    "### 3. Take Random Actions in the Environment\n",
    "\n",
    "In the next code cell, you will learn how to use the Python API to control the agents and receive feedback from the environment.\n",
    "\n",
    "Once this cell is executed, you will watch the agents' performance, if they select actions at random with each time step.  A window should pop up that allows you to observe the agents.\n",
    "\n",
    "Of course, as part of the project, you'll have to change the code so that the agents are able to use their experiences to gradually choose better actions when interacting with the environment!"
   ]
  },
  {
   "cell_type": "code",
   "execution_count": 5,
   "metadata": {},
   "outputs": [
    {
     "name": "stdout",
     "output_type": "stream",
     "text": [
      "Score (max over agents) from episode 1: 0.0\n",
      "Score (max over agents) from episode 2: 0.0\n",
      "Score (max over agents) from episode 3: 0.0\n",
      "Score (max over agents) from episode 4: 0.10000000149011612\n",
      "Score (max over agents) from episode 5: 0.0\n"
     ]
    }
   ],
   "source": [
    "for i in range(1, 6):                                      # play game for 5 episodes\n",
    "    env_info = env.reset(train_mode=False)[brain_name]     # reset the environment    \n",
    "    states = env_info.vector_observations                  # get the current state (for each agent)\n",
    "    scores = np.zeros(num_agents)                          # initialize the score (for each agent)\n",
    "    while True:\n",
    "        actions = np.random.randn(num_agents, action_size) # select an action (for each agent)\n",
    "        actions = np.clip(actions, -1, 1)                  # all actions between -1 and 1\n",
    "        env_info = env.step(actions)[brain_name]           # send all actions to tne environment\n",
    "        next_states = env_info.vector_observations         # get next state (for each agent)\n",
    "        rewards = env_info.rewards                         # get reward (for each agent)\n",
    "        dones = env_info.local_done                        # see if episode finished\n",
    "        scores += env_info.rewards                         # update the score (for each agent)\n",
    "        states = next_states                               # roll over states to next time step\n",
    "        if np.any(dones):                                  # exit loop if episode finished\n",
    "            break\n",
    "    print('Score (max over agents) from episode {}: {}'.format(i, np.max(scores)))"
   ]
  },
  {
   "cell_type": "markdown",
   "metadata": {},
   "source": [
    "When finished, you can close the environment."
   ]
  },
  {
   "cell_type": "markdown",
   "metadata": {},
   "source": [
    "### 4. It's Your Turn!\n",
    "\n",
    "Now it's your turn to train your own agent to solve the environment!  When training the environment, set `train_mode=True`, so that the line for resetting the environment looks like the following:\n",
    "```python\n",
    "env_info = env.reset(train_mode=True)[brain_name]\n",
    "```"
   ]
  },
  {
   "cell_type": "code",
   "execution_count": 6,
   "metadata": {},
   "outputs": [],
   "source": [
    "agent = Agent(state_size=state_size, action_size=action_size, num_agents=num_agents, random_seed=0.5)"
   ]
  },
  {
   "cell_type": "code",
   "execution_count": 22,
   "metadata": {
    "scrolled": true
   },
   "outputs": [
    {
     "name": "stdout",
     "output_type": "stream",
     "text": [
      "Episode 1\tAverage Score: 0.100\n",
      "Episode 2\tAverage Score: 0.100\n",
      "Episode 3\tAverage Score: 0.100\n",
      "Episode 4\tAverage Score: 0.100\n",
      "Episode 5\tAverage Score: 0.080\n",
      "Episode 6\tAverage Score: 0.083\n",
      "Episode 7\tAverage Score: 0.071\n",
      "Episode 8\tAverage Score: 0.063\n",
      "Episode 9\tAverage Score: 0.056\n",
      "Episode 10\tAverage Score: 0.059\n",
      "Episode 11\tAverage Score: 0.063\n",
      "Episode 12\tAverage Score: 0.058\n",
      "Episode 13\tAverage Score: 0.061\n",
      "Episode 14\tAverage Score: 0.064\n",
      "Episode 15\tAverage Score: 0.065\n",
      "Episode 16\tAverage Score: 0.061\n",
      "Episode 17\tAverage Score: 0.063\n",
      "Episode 18\tAverage Score: 0.064\n",
      "Episode 19\tAverage Score: 0.061\n",
      "Episode 20\tAverage Score: 0.058\n",
      "Episode 21\tAverage Score: 0.055\n",
      "Episode 22\tAverage Score: 0.057\n",
      "Episode 23\tAverage Score: 0.063\n",
      "Episode 24\tAverage Score: 0.064\n",
      "Episode 25\tAverage Score: 0.066\n",
      "Episode 26\tAverage Score: 0.067\n",
      "Episode 27\tAverage Score: 0.064\n",
      "Episode 28\tAverage Score: 0.066\n",
      "Episode 29\tAverage Score: 0.067\n",
      "Episode 30\tAverage Score: 0.068\n",
      "Episode 31\tAverage Score: 0.066\n",
      "Episode 32\tAverage Score: 0.064\n",
      "Episode 33\tAverage Score: 0.062\n",
      "Episode 34\tAverage Score: 0.063\n",
      "Episode 35\tAverage Score: 0.061\n",
      "Episode 36\tAverage Score: 0.059\n",
      "Episode 37\tAverage Score: 0.058\n",
      "Episode 38\tAverage Score: 0.059\n",
      "Episode 39\tAverage Score: 0.060\n",
      "Episode 40\tAverage Score: 0.061\n",
      "Episode 41\tAverage Score: 0.062\n",
      "Episode 42\tAverage Score: 0.063\n",
      "Episode 43\tAverage Score: 0.064\n",
      "Episode 44\tAverage Score: 0.065\n",
      "Episode 45\tAverage Score: 0.068\n",
      "Episode 46\tAverage Score: 0.068\n",
      "Episode 47\tAverage Score: 0.073\n",
      "Episode 48\tAverage Score: 0.076\n",
      "Episode 49\tAverage Score: 0.076\n",
      "Episode 50\tAverage Score: 0.077\n",
      "Episode 51\tAverage Score: 0.077\n",
      "Episode 52\tAverage Score: 0.078\n",
      "Episode 53\tAverage Score: 0.078\n",
      "Episode 54\tAverage Score: 0.080\n",
      "Episode 55\tAverage Score: 0.082\n",
      "Episode 56\tAverage Score: 0.084\n",
      "Episode 57\tAverage Score: 0.085\n",
      "Episode 58\tAverage Score: 0.085\n",
      "Episode 59\tAverage Score: 0.088\n",
      "Episode 60\tAverage Score: 0.089\n",
      "Episode 61\tAverage Score: 0.094\n",
      "Episode 62\tAverage Score: 0.094\n",
      "Episode 63\tAverage Score: 0.094\n",
      "Episode 64\tAverage Score: 0.096\n",
      "Episode 65\tAverage Score: 0.097\n",
      "Episode 66\tAverage Score: 0.100\n",
      "Episode 67\tAverage Score: 0.099\n",
      "Episode 68\tAverage Score: 0.099\n",
      "Episode 69\tAverage Score: 0.099\n",
      "Episode 70\tAverage Score: 0.099\n",
      "Episode 71\tAverage Score: 0.097\n",
      "Episode 72\tAverage Score: 0.097\n",
      "Episode 73\tAverage Score: 0.100\n",
      "Episode 74\tAverage Score: 0.100\n",
      "Episode 75\tAverage Score: 0.099\n",
      "Episode 76\tAverage Score: 0.104\n",
      "Episode 77\tAverage Score: 0.105\n",
      "Episode 78\tAverage Score: 0.120\n",
      "Episode 79\tAverage Score: 0.120\n",
      "Episode 80\tAverage Score: 0.121\n",
      "Episode 81\tAverage Score: 0.120\n",
      "Episode 82\tAverage Score: 0.125\n",
      "Episode 83\tAverage Score: 0.132\n",
      "Episode 84\tAverage Score: 0.139\n",
      "Episode 85\tAverage Score: 0.153\n",
      "Episode 86\tAverage Score: 0.156\n",
      "Episode 87\tAverage Score: 0.164\n",
      "Episode 88\tAverage Score: 0.163\n",
      "Episode 89\tAverage Score: 0.171\n",
      "Episode 90\tAverage Score: 0.173\n",
      "Episode 91\tAverage Score: 0.176\n",
      "Episode 92\tAverage Score: 0.187\n",
      "Episode 93\tAverage Score: 0.200\n",
      "Episode 94\tAverage Score: 0.199\n",
      "Episode 95\tAverage Score: 0.198\n",
      "Episode 96\tAverage Score: 0.203\n",
      "Episode 97\tAverage Score: 0.228\n",
      "Episode 98\tAverage Score: 0.230\n",
      "Episode 99\tAverage Score: 0.232\n",
      "Episode 100\tAverage Score: 0.235\n",
      "Episode 100\tAverage Score: 0.235\n",
      "Episode 101\tAverage Score: 0.235\n",
      "Episode 102\tAverage Score: 0.236\n",
      "Episode 103\tAverage Score: 0.237\n",
      "Episode 104\tAverage Score: 0.237\n",
      "Episode 105\tAverage Score: 0.238\n",
      "Episode 106\tAverage Score: 0.244\n",
      "Episode 107\tAverage Score: 0.245\n",
      "Episode 108\tAverage Score: 0.256\n",
      "Episode 109\tAverage Score: 0.261\n",
      "Episode 110\tAverage Score: 0.277\n",
      "Episode 111\tAverage Score: 0.278\n",
      "Episode 112\tAverage Score: 0.298\n",
      "Episode 113\tAverage Score: 0.298\n",
      "Episode 114\tAverage Score: 0.314\n",
      "Episode 115\tAverage Score: 0.339\n",
      "Episode 116\tAverage Score: 0.340\n",
      "Episode 117\tAverage Score: 0.346\n",
      "Episode 118\tAverage Score: 0.358\n",
      "Episode 119\tAverage Score: 0.371\n",
      "Episode 120\tAverage Score: 0.397\n",
      "Episode 121\tAverage Score: 0.398\n",
      "Episode 122\tAverage Score: 0.417\n",
      "Episode 123\tAverage Score: 0.421\n",
      "Episode 124\tAverage Score: 0.426\n",
      "Episode 125\tAverage Score: 0.426\n",
      "Episode 126\tAverage Score: 0.427\n",
      "Episode 127\tAverage Score: 0.445\n",
      "Episode 128\tAverage Score: 0.452\n",
      "Episode 129\tAverage Score: 0.452\n",
      "Episode 130\tAverage Score: 0.452\n",
      "Episode 131\tAverage Score: 0.453\n",
      "Episode 132\tAverage Score: 0.459\n",
      "Episode 133\tAverage Score: 0.479\n",
      "Episode 134\tAverage Score: 0.483\n",
      "Episode 135\tAverage Score: 0.509\n",
      "\n",
      "Environment solved in 35 episodes!\tAverage Score: 0.51\n"
     ]
    }
   ],
   "source": [
    "####MULTIAGENT DEEP DETERMINISTIC POLICY GRADIENT LEARNING###########\n",
    "\n",
    "def maddpg(n_episodes=3000, max_t=1000):\n",
    "    \"\"\"Multi-Agent Deep Deterministic Policy Gradient Learning.\n",
    "    \"\"\"\n",
    "    scores_deque = deque(maxlen=100)\n",
    "    print_every = 100\n",
    "    total = []\n",
    "    aver_scores = []\n",
    "    \n",
    "    \n",
    "    for episode in range(1, n_episodes+1):\n",
    "        env_info = env.reset(train_mode=True)[brain_name]       # RESET\n",
    "        states = env_info.vector_observations                   # GET STATE\n",
    "        agent.reset()                                           \n",
    "        scores = np.zeros(num_agents)                          \n",
    "        \n",
    "        for t in range(max_t):\n",
    "            actions = agent.act(states)                         # select an action\n",
    "            env_info = env.step(actions)[brain_name]            # send actions to environment\n",
    "            next_states = env_info.vector_observations          # GET NEXT STATE\n",
    "            rewards = env_info.rewards                          # Reward\n",
    "            dones = env_info.local_done                         # TEST FINISHED\n",
    "            agent.step(states, actions, rewards, next_states, dones)\n",
    "            states = next_states                               \n",
    "            scores += rewards                                   # update the score\n",
    "            if np.any(dones):                                   # EXIT\n",
    "                break \n",
    "        \n",
    "        ####SCORES#####\n",
    "        \n",
    "        scores_deque.append(np.max(scores))                     # SAVE SCORE\n",
    "        total.append(np.max(scores))                            \n",
    "        aver_scores.append(np.mean(scores_deque))               # SAVE THE AVERAGE SCORE\n",
    "        \n",
    "        \n",
    "        print('\\rEpisode {}\\tAverage Score: {:.3f}'.format(episode, np.mean(scores_deque), end=\"\"))\n",
    "              \n",
    "        if (episode % print_every) == 0:\n",
    "            print('\\rEpisode {}\\tAverage Score: {:.3f}'.format(episode, np.mean(scores_deque)))\n",
    "        \n",
    "        #######environment solved and saved chekpoints###########\n",
    "              \n",
    "        if np.mean(scores_deque)>=0.5:\n",
    "            print('\\nEnvironment solved in {:d} episodes!\\tAverage Score: {:.2f}'.format(episode-100, np.mean(scores_deque)))\n",
    "            torch.save(agent.actor_local.state_dict(), 'check_actor.pth')\n",
    "            torch.save(agent.critic_local.state_dict(), 'check_critic.pth')\n",
    "            break\n",
    "    \n",
    "    return total, aver_scores\n",
    "\n",
    "\n",
    "scores, aver_scores = maddpg()\n"
   ]
  },
  {
   "cell_type": "code",
   "execution_count": 23,
   "metadata": {},
   "outputs": [
    {
     "data": {
      "image/png": "[encoded data removed]",
      "text/plain": [
       "<Figure size 720x504 with 1 Axes>"
      ]
     },
     "metadata": {
      "needs_background": "light"
     },
     "output_type": "display_data"
    }
   ],
   "source": [
    "# plot the score over episodes\n",
    "fig = plt.figure(figsize=(10,7))\n",
    "ax = fig.add_subplot(111)\n",
    "plt.plot(np.arange(len(scores)), scores, alpha=0.5)\n",
    "plt.plot(np.arange(len(scores)), aver_scores, linewidth=2, c='y')\n",
    "plt.ylabel('Score')\n",
    "plt.xlabel('Episode #')\n",
    "plt.show()"
   ]
  },
  {
   "cell_type": "code",
   "execution_count": 24,
   "metadata": {},
   "outputs": [],
   "source": [
    "env.close()"
   ]
  },
  {
   "cell_type": "code",
   "execution_count": null,
   "metadata": {},
   "outputs": [],
   "source": []
  }
 ],
 "metadata": {
  "kernelspec": {
   "display_name": "Python 3",
   "language": "python",
   "name": "python3"
  },
  "language_info": {
   "codemirror_mode": {
    "name": "ipython",
    "version": 3
   },
   "file_extension": ".py",
   "mimetype": "text/x-python",
   "name": "python",
   "nbconvert_exporter": "python",
   "pygments_lexer": "ipython3",
   "version": "3.6.9"
  }
 },
 "nbformat": 4,
 "nbformat_minor": 2
}
